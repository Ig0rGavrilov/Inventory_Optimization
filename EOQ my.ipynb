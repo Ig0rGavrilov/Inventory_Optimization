{
 "cells": [
  {
   "cell_type": "code",
   "execution_count": 43,
   "id": "ab28f39f",
   "metadata": {},
   "outputs": [],
   "source": [
    "def EOQ(D, Ct, h, c):\n",
    "    return ((2*D*Ct)/(h*c))**0.5"
   ]
  },
  {
   "cell_type": "code",
   "execution_count": 44,
   "id": "51e37746",
   "metadata": {},
   "outputs": [
    {
     "name": "stdout",
     "output_type": "stream",
     "text": [
      "1633\n"
     ]
    }
   ],
   "source": [
    "Q = EOQ(2000, 100, 0.15, 1)\n",
    "print(round(Q))"
   ]
  },
  {
   "cell_type": "code",
   "execution_count": 45,
   "id": "d500bfdb",
   "metadata": {},
   "outputs": [],
   "source": [
    "def TC(D, Q, c, h, Ct):\n",
    "    return c*D + Ct*D/Q + c*h*Q/2\n"
   ]
  },
  {
   "cell_type": "code",
   "execution_count": 46,
   "id": "1c41dd9a",
   "metadata": {},
   "outputs": [
    {
     "name": "stdout",
     "output_type": "stream",
     "text": [
      "2245\n"
     ]
    }
   ],
   "source": [
    "TC = TC(2000, Q, 1, 0.15, 100)\n",
    "print(round(TC))"
   ]
  },
  {
   "cell_type": "code",
   "execution_count": 36,
   "id": "71a7ca70",
   "metadata": {},
   "outputs": [
    {
     "data": {
      "text/plain": [
       "2245"
      ]
     },
     "execution_count": 36,
     "metadata": {},
     "output_type": "execute_result"
    }
   ],
   "source": []
  },
  {
   "cell_type": "code",
   "execution_count": null,
   "id": "60ca929a",
   "metadata": {},
   "outputs": [],
   "source": []
  }
 ],
 "metadata": {
  "kernelspec": {
   "display_name": "Python 3",
   "language": "python",
   "name": "python3"
  },
  "language_info": {
   "codemirror_mode": {
    "name": "ipython",
    "version": 3
   },
   "file_extension": ".py",
   "mimetype": "text/x-python",
   "name": "python",
   "nbconvert_exporter": "python",
   "pygments_lexer": "ipython3",
   "version": "3.8.10"
  }
 },
 "nbformat": 4,
 "nbformat_minor": 5
}
