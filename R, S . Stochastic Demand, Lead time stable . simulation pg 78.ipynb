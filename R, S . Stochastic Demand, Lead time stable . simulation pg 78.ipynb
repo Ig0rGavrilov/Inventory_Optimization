{
 "cells": [
  {
   "cell_type": "code",
   "execution_count": 25,
   "id": "5a474711",
   "metadata": {},
   "outputs": [],
   "source": [
    "import numpy as np\n",
    "import pandas as pd\n",
    "import matplotlib.pyplot as plt\n",
    "from scipy.stats import norm\n",
    "\n",
    "time = 100  # Number of simulations\n",
    "d_mu = 100  # Demand \n",
    "d_std = 25   # Demand's standard deviation\n",
    "d = np.maximum(np.random.normal(d_mu, d_std, time).round(0).astype(int), 0) # random demand with minimum value 0"
   ]
  },
  {
   "cell_type": "code",
   "execution_count": 26,
   "id": "88a6ec18",
   "metadata": {},
   "outputs": [],
   "source": [
    "L, R, alpha = 4, 1, 0.95  # L is a lead time, R is a review period, alpha is the CSL\n",
    "z = norm.ppf(alpha)       # calculate z value\n",
    "x_std = np.sqrt(L+R)*d_std  #standard deviation over lead time and review period\n",
    "Ss = np.round(x_std * z).astype(int)  # Safety stock \n",
    "Cs = 1/2 * d_mu * R # Cycle stock D over Review period\n",
    "Is = d_mu * L  # inventory on the way\n",
    "S = Ss + 2 * Cs + Is # Total inventory "
   ]
  },
  {
   "cell_type": "code",
   "execution_count": 32,
   "id": "c0480dad",
   "metadata": {},
   "outputs": [],
   "source": [
    "hand = np.zeros(time, dtype=int) # Create new empty array with size of the time, valuies are integer\n",
    "transit = np.zeros((time, L+1), dtype=int) #Create new  2nd empty array"
   ]
  },
  {
   "cell_type": "code",
   "execution_count": 33,
   "id": "08ebeca6",
   "metadata": {},
   "outputs": [],
   "source": [
    "hand[0] = S - d[0] # Level of the inventory after first period , S - demand(first period)\n",
    "transit[1,-1] = d[0] # put the IOH to first row and last position"
   ]
  },
  {
   "cell_type": "code",
   "execution_count": 34,
   "id": "79ba9056",
   "metadata": {},
   "outputs": [],
   "source": [
    "stockout_period = np.full(time, False, dtype=bool) # Create an array with lenght time and all the FALSE\n",
    "stockout_cycle = [] # Create array stockout cycle"
   ]
  },
  {
   "cell_type": "code",
   "execution_count": 35,
   "id": "1ad9d5e9",
   "metadata": {},
   "outputs": [],
   "source": [
    "for t in range(1,time):\n",
    "    if transit[t-1, 0] > 0: # t-1 it is a previous perid , position 0, that means oreder received!\n",
    "        stockout_cycle.append(stockout_period[t-1])\n",
    "    hand[t] = hand[t-1] - d[t] + transit[t-1, 0] # on hand previous period - demand + receieved order\n",
    "    stockout_period[t] = hand[t] < 0   \n",
    "    #hand[t] = max(0, hand[t]) backorders\n",
    "    transit[t,:-1] = transit[t-1, 1:]   \n",
    "    if 0 == t%R:   # check the review period % t divided by R\n",
    "        net = hand[t] + transit[t].sum()   \n",
    "        transit[t,L] = S - net"
   ]
  },
  {
   "cell_type": "code",
   "execution_count": 36,
   "id": "5935daa5",
   "metadata": {},
   "outputs": [
    {
     "name": "stdout",
     "output_type": "stream",
     "text": [
      "    Demand  On-hand                In Transit\n",
      "5       68     -113  [111, 264, 123, 139, 68]\n",
      "6       77      -79   [264, 123, 139, 68, 77]\n",
      "7       89       96    [123, 139, 68, 77, 89]\n",
      "8      151       68    [139, 68, 77, 89, 151]\n",
      "9       72      135     [68, 77, 89, 151, 72]\n",
      "..     ...      ...                       ...\n",
      "95     101       72  [103, 121, 109, 86, 101]\n",
      "96     167        8  [121, 109, 86, 101, 167]\n",
      "97     127        2  [109, 86, 101, 167, 127]\n",
      "98     111        0  [86, 101, 167, 127, 111]\n",
      "99      91       -5  [101, 167, 127, 111, 91]\n",
      "\n",
      "[95 rows x 3 columns]\n"
     ]
    },
    {
     "data": {
      "text/plain": [
       "<AxesSubplot:title={'center':'Inventory Policy (1, 592)'}>"
      ]
     },
     "execution_count": 36,
     "metadata": {},
     "output_type": "execute_result"
    },
    {
     "data": {
      "image/png": "[encoded data removed]",
      "text/plain": [
       "<Figure size 432x288 with 1 Axes>"
      ]
     },
     "metadata": {
      "needs_background": "light"
     },
     "output_type": "display_data"
    }
   ],
   "source": [
    "df = pd.DataFrame(data = {\"Demand\":d, \"On-hand\":hand, \"In Transit\":list(transit)})\n",
    "df = df.iloc[R+L: ,:]\n",
    "print(df)\n",
    "df[\"On-hand\"].plot(title=\"Inventory Policy (%d, %d)\" %(R,S), ylim = (0,S), legend = True)\n"
   ]
  },
  {
   "cell_type": "code",
   "execution_count": 37,
   "id": "07f6277f",
   "metadata": {},
   "outputs": [
    {
     "name": "stdout",
     "output_type": "stream",
     "text": [
      "Alpha: 95.0\n",
      "Cycle Service Level: 92.6\n",
      "Period Service Level: 91.0\n"
     ]
    }
   ],
   "source": [
    "print(\"Alpha:\", alpha*100)\n",
    "SL_alpha = 1 - sum(stockout_cycle)/len(stockout_cycle)\n",
    "print(\"Cycle Service Level:\", round(SL_alpha*100,1))\n",
    "SL_period = 1 - sum(stockout_period)/time\n",
    "print(\"Period Service Level:\", round(SL_period*100,1))"
   ]
  },
  {
   "cell_type": "code",
   "execution_count": null,
   "id": "3403978c",
   "metadata": {},
   "outputs": [],
   "source": []
  }
 ],
 "metadata": {
  "kernelspec": {
   "display_name": "Python 3",
   "language": "python",
   "name": "python3"
  },
  "language_info": {
   "codemirror_mode": {
    "name": "ipython",
    "version": 3
   },
   "file_extension": ".py",
   "mimetype": "text/x-python",
   "name": "python",
   "nbconvert_exporter": "python",
   "pygments_lexer": "ipython3",
   "version": "3.8.10"
  }
 },
 "nbformat": 4,
 "nbformat_minor": 5
}
