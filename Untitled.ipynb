{
 "cells": [
  {
   "cell_type": "code",
   "execution_count": 1,
   "id": "969213db",
   "metadata": {},
   "outputs": [],
   "source": [
    "import numpy as np\n",
    "import pandas as pd\n",
    "import matplotlib as plt\n",
    "from scipy.stats import norm\n",
    "time = 200  # Number of simulations\n",
    "d_mu = 100  # Demand \n",
    "d_std = 25   # Demand's standard deviation\n",
    "d = np.maximum(np.random.normal(d_mu, d_std, time).round(0).astype(int), 0)"
   ]
  },
  {
   "cell_type": "code",
   "execution_count": 2,
   "id": "30f3890d",
   "metadata": {},
   "outputs": [],
   "source": [
    "L, R, alpha = 4, 1, 0.95  # L is a lead time, R is a review period, alpha is the CSL\n",
    "z = norm.ppf(alpha)       # calculate z value\n",
    "x_std = np.sqrt(L+R)*d_std  #standard deviation over lead time and review period\n",
    "Ss = np.round(x_std * z).astype(int)  # Safety stock \n",
    "Cs = 1/2 * d_mu * R # Cycle stock D over Review period\n",
    "Is = d_mu * L  # inventory on the way\n",
    "S = Ss + 2 * Cs + Is # Total inventory "
   ]
  },
  {
   "cell_type": "code",
   "execution_count": 3,
   "id": "238d7b67",
   "metadata": {},
   "outputs": [
    {
     "name": "stdout",
     "output_type": "stream",
     "text": [
      "1.6448536269514722\n",
      "55.90169943749474\n",
      "92\n",
      "592.0\n"
     ]
    }
   ],
   "source": [
    "print(z)\n",
    "print(x_std)\n",
    "print(Ss)\n",
    "print(S)"
   ]
  },
  {
   "cell_type": "code",
   "execution_count": 13,
   "id": "126c1f02",
   "metadata": {},
   "outputs": [],
   "source": [
    "b = np.zeros((4, 3), dtype=int)\n",
    "b[1,1] = 1"
   ]
  },
  {
   "cell_type": "code",
   "execution_count": 15,
   "id": "5861bc95",
   "metadata": {},
   "outputs": [
    {
     "name": "stdout",
     "output_type": "stream",
     "text": [
      "1\n"
     ]
    }
   ],
   "source": [
    "print(b[1,1])"
   ]
  },
  {
   "cell_type": "code",
   "execution_count": 16,
   "id": "5dcf0b23",
   "metadata": {},
   "outputs": [],
   "source": [
    "stockout_period = np.full(time, False, dtype=bool)"
   ]
  },
  {
   "cell_type": "code",
   "execution_count": 18,
   "id": "36781e18",
   "metadata": {},
   "outputs": [
    {
     "name": "stdout",
     "output_type": "stream",
     "text": [
      "200\n"
     ]
    }
   ],
   "source": [
    "print(len(stockout_period))"
   ]
  },
  {
   "cell_type": "code",
   "execution_count": null,
   "id": "10f6c9d6",
   "metadata": {},
   "outputs": [],
   "source": [
    "s = np.maximum(np.random.normal(0,1,100).astype(int), 0)"
   ]
  },
  {
   "cell_type": "code",
   "execution_count": null,
   "id": "b179ec08",
   "metadata": {},
   "outputs": [],
   "source": [
    "print(s)"
   ]
  },
  {
   "cell_type": "code",
   "execution_count": null,
   "id": "88dda3af",
   "metadata": {},
   "outputs": [],
   "source": [
    "print(type(s[1]))"
   ]
  },
  {
   "cell_type": "code",
   "execution_count": null,
   "id": "286dd4ec",
   "metadata": {},
   "outputs": [],
   "source": [
    "a = [ 1, 0, -1, -5, 3, 9]\n",
    "b = [ 2, -3, -2, 8, 2, 1]\n",
    "c = np.maximum(a,0)"
   ]
  },
  {
   "cell_type": "code",
   "execution_count": null,
   "id": "51f237f9",
   "metadata": {},
   "outputs": [],
   "source": [
    "print(c)"
   ]
  },
  {
   "cell_type": "code",
   "execution_count": null,
   "id": "0f2bbcae",
   "metadata": {},
   "outputs": [],
   "source": [
    "a = [1, 2, 3, 4 ,5 ,6, 7 ,8, 9, 0]\n",
    "print(a)"
   ]
  },
  {
   "cell_type": "code",
   "execution_count": null,
   "id": "919a2367",
   "metadata": {},
   "outputs": [],
   "source": [
    "print(a[1])"
   ]
  },
  {
   "cell_type": "code",
   "execution_count": null,
   "id": "aebee780",
   "metadata": {},
   "outputs": [],
   "source": [
    "b = [0, 0, 0, 0, 0]"
   ]
  },
  {
   "cell_type": "code",
   "execution_count": null,
   "id": "915ef91a",
   "metadata": {},
   "outputs": [],
   "source": [
    "print(b)"
   ]
  },
  {
   "cell_type": "code",
   "execution_count": null,
   "id": "1e5b39a0",
   "metadata": {},
   "outputs": [],
   "source": [
    "b[-1, 1] = 5"
   ]
  },
  {
   "cell_type": "code",
   "execution_count": 1,
   "id": "04a25743",
   "metadata": {},
   "outputs": [
    {
     "name": "stdout",
     "output_type": "stream",
     "text": [
      "Collecting package metadata (current_repodata.json): ...working... done\n",
      "Solving environment: ...working... done\n",
      "\n",
      "## Package Plan ##\n",
      "\n",
      "  environment location: C:\\Users\\gavri\\anaconda3\n",
      "\n",
      "  added / updated specs:\n",
      "    - bottleneck\n",
      "\n",
      "\n",
      "The following NEW packages will be INSTALLED:\n",
      "\n",
      "  bottleneck         pkgs/main/win-64::bottleneck-1.3.2-py38h2a96729_1\n",
      "\n",
      "\n",
      "Preparing transaction: ...working... done\n",
      "Verifying transaction: ...working... done\n",
      "Executing transaction: ...working... done\n",
      "\n",
      "Note: you may need to restart the kernel to use updated packages.\n"
     ]
    }
   ],
   "source": [
    "conda install bottleneck"
   ]
  },
  {
   "cell_type": "code",
   "execution_count": 2,
   "id": "7a2821c1",
   "metadata": {},
   "outputs": [
    {
     "name": "stdout",
     "output_type": "stream",
     "text": [
      "Requirement already satisfied: matplotlib in c:\\users\\gavri\\anaconda3\\lib\\site-packages (3.3.4)\n",
      "Requirement already satisfied: cycler>=0.10 in c:\\users\\gavri\\anaconda3\\lib\\site-packages (from matplotlib) (0.10.0)\n",
      "Requirement already satisfied: numpy>=1.15 in c:\\users\\gavri\\anaconda3\\lib\\site-packages (from matplotlib) (1.20.2)\n",
      "Requirement already satisfied: kiwisolver>=1.0.1 in c:\\users\\gavri\\anaconda3\\lib\\site-packages (from matplotlib) (1.3.1)\n",
      "Requirement already satisfied: pyparsing!=2.0.4,!=2.1.2,!=2.1.6,>=2.0.3 in c:\\users\\gavri\\anaconda3\\lib\\site-packages (from matplotlib) (2.4.7)\n",
      "Requirement already satisfied: python-dateutil>=2.1 in c:\\users\\gavri\\anaconda3\\lib\\site-packages (from matplotlib) (2.8.1)\n",
      "Requirement already satisfied: pillow>=6.2.0 in c:\\users\\gavri\\anaconda3\\lib\\site-packages (from matplotlib) (8.2.0)\n",
      "Requirement already satisfied: six in c:\\users\\gavri\\anaconda3\\lib\\site-packages (from cycler>=0.10->matplotlib) (1.16.0)\n"
     ]
    }
   ],
   "source": [
    "!pip install matplotlib"
   ]
  },
  {
   "cell_type": "code",
   "execution_count": 3,
   "id": "f96529d0",
   "metadata": {},
   "outputs": [
    {
     "ename": "ModuleNotFoundError",
     "evalue": "No module named 'matplotlib.pyplot'",
     "output_type": "error",
     "traceback": [
      "\u001b[1;31m---------------------------------------------------------------------------\u001b[0m",
      "\u001b[1;31mModuleNotFoundError\u001b[0m                       Traceback (most recent call last)",
      "\u001b[1;32m<ipython-input-3-a0d2faabd9e9>\u001b[0m in \u001b[0;36m<module>\u001b[1;34m\u001b[0m\n\u001b[1;32m----> 1\u001b[1;33m \u001b[1;32mimport\u001b[0m \u001b[0mmatplotlib\u001b[0m\u001b[1;33m.\u001b[0m\u001b[0mpyplot\u001b[0m \u001b[1;32mas\u001b[0m \u001b[0mplt\u001b[0m\u001b[1;33m\u001b[0m\u001b[1;33m\u001b[0m\u001b[0m\n\u001b[0m",
      "\u001b[1;31mModuleNotFoundError\u001b[0m: No module named 'matplotlib.pyplot'"
     ]
    }
   ],
   "source": [
    "import matplotlib.pyplot as plt"
   ]
  },
  {
   "cell_type": "code",
   "execution_count": null,
   "id": "984581ca",
   "metadata": {},
   "outputs": [],
   "source": [
    "\n",
    "\n",
    "hand[0] = S - d[0]\n",
    "transit[1,-1] = d[0]"
   ]
  }
 ],
 "metadata": {
  "kernelspec": {
   "display_name": "Python 3",
   "language": "python",
   "name": "python3"
  },
  "language_info": {
   "codemirror_mode": {
    "name": "ipython",
    "version": 3
   },
   "file_extension": ".py",
   "mimetype": "text/x-python",
   "name": "python",
   "nbconvert_exporter": "python",
   "pygments_lexer": "ipython3",
   "version": "3.8.10"
  }
 },
 "nbformat": 4,
 "nbformat_minor": 5
}
