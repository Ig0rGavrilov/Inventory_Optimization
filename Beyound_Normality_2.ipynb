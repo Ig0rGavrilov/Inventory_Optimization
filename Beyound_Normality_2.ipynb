{
 "cells": [
  {
   "cell_type": "markdown",
   "id": "d5ff097b",
   "metadata": {},
   "source": [
    "# Beyond normality Method 2, Root mean squared error"
   ]
  },
  {
   "cell_type": "code",
   "execution_count": 1,
   "id": "e8466cea",
   "metadata": {},
   "outputs": [],
   "source": [
    "import pandas as pd\n",
    "import numpy as np\n",
    "from scipy.stats import norm\n",
    "from scipy.stats import gamma\n"
   ]
  },
  {
   "cell_type": "code",
   "execution_count": 2,
   "id": "175163c7",
   "metadata": {},
   "outputs": [],
   "source": [
    "def get_data(car_maker):\n",
    "    df= pd.read_csv('norway_new_car_sales_by_make.csv')\n",
    "    df['Date'] = pd.to_datetime(df['Year'].astype(str)+df['Month'].astype(str), format='%Y%m')\n",
    "    df= (df.loc[df['Make'] == car_maker, ['Date', 'Quantity']].rename(columns={'Quantity':'Sales'}).set_index('Date'))\n",
    "    return df"
   ]
  },
  {
   "cell_type": "code",
   "execution_count": 5,
   "id": "78a42e4f",
   "metadata": {},
   "outputs": [],
   "source": [
    "df = get_data('Ford')"
   ]
  },
  {
   "cell_type": "code",
   "execution_count": 6,
   "id": "5dff79d6",
   "metadata": {},
   "outputs": [],
   "source": [
    "def rmse_percent(a,b):\n",
    "    rmse = np.sqrt(sum((a-b)**2)/len(a))/np.mean(b)\n",
    "    return round(rmse*100,1)\n",
    "\n"
   ]
  },
  {
   "cell_type": "code",
   "execution_count": 7,
   "id": "8d955e2b",
   "metadata": {},
   "outputs": [],
   "source": [
    "hist_range = (df.Sales.min()*0.8, df.Sales.max()*1.2)\n",
    "y_actuals, edges = np.histogram(df, bins=30, density = True, range=hist_range)\n",
    "\n",
    "\n",
    "x = (edges + np.roll(edges, -1))[:-1]/2.0"
   ]
  },
  {
   "cell_type": "code",
   "execution_count": 8,
   "id": "05bd9b01",
   "metadata": {},
   "outputs": [],
   "source": [
    "# Normal fit\n",
    "\n",
    "mu = df.Sales.mean()\n",
    "std = df.Sales.std()\n",
    "y_normal = norm.pdf(x,mu,std)\n",
    "\n",
    "# Gamma fit\n",
    "\n",
    "shape = mu**2/std**2   # get k\n",
    "scale = std**2/mu   # theta\n",
    "y_gamma = gamma.pdf(x, shape, loc=0, scale=scale)\n",
    "\n",
    "# Gamma fit with minimum Demand\n",
    "mini = df.Sales.min() # d_min\n",
    "mu_p = mu - mini  # mu'\n",
    "shape_p = mu_p**2/std**2 #k\n",
    "scale_p = std**2/mu_p  # theta\n",
    "y_gamma_p = gamma.pdf(x, shape_p, loc=mini, scale=scale_p)"
   ]
  },
  {
   "cell_type": "code",
   "execution_count": 9,
   "id": "b94fff92",
   "metadata": {},
   "outputs": [],
   "source": [
    "y_actuals /=y_actuals.sum()\n",
    "y_normal /= y_normal.sum()\n",
    "y_gamma /=y_gamma.sum()\n",
    "y_gamma_p /= y_gamma_p.sum()"
   ]
  },
  {
   "cell_type": "code",
   "execution_count": 10,
   "id": "1f8d8d91",
   "metadata": {},
   "outputs": [],
   "source": [
    "rmse_normal = rmse_percent(y_actuals, y_normal)\n",
    "rmse_gamma =rmse_percent(y_actuals, y_gamma)\n",
    "rmse_gamma_p = rmse_percent(y_actuals, y_gamma_p)"
   ]
  },
  {
   "cell_type": "code",
   "execution_count": 11,
   "id": "f3ee85b3",
   "metadata": {},
   "outputs": [
    {
     "name": "stdout",
     "output_type": "stream",
     "text": [
      "60.9 51.5 44.8\n"
     ]
    }
   ],
   "source": [
    "print(rmse_normal, rmse_gamma, rmse_gamma_p)"
   ]
  },
  {
   "cell_type": "code",
   "execution_count": null,
   "id": "849ae890",
   "metadata": {},
   "outputs": [],
   "source": []
  }
 ],
 "metadata": {
  "kernelspec": {
   "display_name": "Python 3",
   "language": "python",
   "name": "python3"
  },
  "language_info": {
   "codemirror_mode": {
    "name": "ipython",
    "version": 3
   },
   "file_extension": ".py",
   "mimetype": "text/x-python",
   "name": "python",
   "nbconvert_exporter": "python",
   "pygments_lexer": "ipython3",
   "version": "3.8.10"
  }
 },
 "nbformat": 4,
 "nbformat_minor": 5
}
