{
 "cells": [
  {
   "cell_type": "code",
   "execution_count": 1,
   "id": "79f82315",
   "metadata": {},
   "outputs": [
    {
     "name": "stdout",
     "output_type": "stream",
     "text": [
      "0.2650554122698573\n"
     ]
    }
   ],
   "source": [
    "from scipy import stats\n",
    "import numpy as np\n",
    "data = np.array([2,8,0,4,1,9,9,0])\n",
    "print(stats.skew(data))"
   ]
  },
  {
   "cell_type": "code",
   "execution_count": 6,
   "id": "2a2bf8a1",
   "metadata": {},
   "outputs": [
    {
     "data": {
      "text/plain": [
       "0.26505541226985724"
      ]
     },
     "execution_count": 6,
     "metadata": {},
     "output_type": "execute_result"
    }
   ],
   "source": [
    "data = np.array([2,8,0,4,1,9,9,0])\n",
    "m = np.mean(data)\n",
    "s = np.std(data)\n",
    "\n",
    "sum(((data-m)/s)**3)/len(data)"
   ]
  },
  {
   "cell_type": "code",
   "execution_count": null,
   "id": "49316c22",
   "metadata": {},
   "outputs": [],
   "source": []
  }
 ],
 "metadata": {
  "kernelspec": {
   "display_name": "Python 3",
   "language": "python",
   "name": "python3"
  },
  "language_info": {
   "codemirror_mode": {
    "name": "ipython",
    "version": 3
   },
   "file_extension": ".py",
   "mimetype": "text/x-python",
   "name": "python",
   "nbconvert_exporter": "python",
   "pygments_lexer": "ipython3",
   "version": "3.8.10"
  }
 },
 "nbformat": 4,
 "nbformat_minor": 5
}
