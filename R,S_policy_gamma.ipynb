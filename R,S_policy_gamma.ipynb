{
 "cells": [
  {
   "cell_type": "code",
   "execution_count": null,
   "id": "782af731",
   "metadata": {},
   "outputs": [],
   "source": [
    "#page 163\n",
    "import numpy as np\n",
    "from scipy.stats import gamma\n",
    "from scipy.stats import norm"
   ]
  },
  {
   "cell_type": "code",
   "execution_count": null,
   "id": "96ffd07a",
   "metadata": {},
   "outputs": [],
   "source": [
    "d_mu, d_std, d_min = 800, 200, 400\n",
    "alpha, L, R = 0.95, 4, 1\n",
    "x_min = (R+L)*d_min\n",
    "x_mu = (R+L)*d_mu\n",
    "x_mu_p = x_mu - x_min\n",
    "x_std = np.sqrt(R+L)*d_std\n",
    "x_shape_p = x_mu_p**2/x_std**2  # k_x\n",
    "x_scale_p = x_std**2/x_mu_p    # theta_x\n",
    "S = round(gamma.ppf(alpha, x_shape_p, scale=x_scale_p),0) +x_min\n",
    "Ss = S-x_mu"
   ]
  },
  {
   "cell_type": "code",
   "execution_count": null,
   "id": "bda8f26a",
   "metadata": {},
   "outputs": [],
   "source": [
    "print(S)\n",
    "print(Ss)"
   ]
  },
  {
   "cell_type": "markdown",
   "id": "e8869f27",
   "metadata": {},
   "source": [
    "## Units short"
   ]
  },
  {
   "cell_type": "code",
   "execution_count": 5,
   "id": "a2a61986",
   "metadata": {},
   "outputs": [],
   "source": [
    "def gamma_loss(inv, mu, std):\n",
    "    shape = mu**2/std**2  # k\n",
    "    scale = std**2/mu   # theta\n",
    "    loss = shape*scale*(1-gamma.cdf(inv, shape+1, scale=scale))-inv*(1-gamma.cdf(inv, shape,scale=scale))\n",
    "    return loss"
   ]
  },
  {
   "cell_type": "code",
   "execution_count": null,
   "id": "78bdee59",
   "metadata": {},
   "outputs": [],
   "source": [
    "inv, mu, std = 120, 100, 50\n",
    "gamma_loss(inv, mu, std)\n",
    "normal_loss(inv, mu, std)"
   ]
  },
  {
   "cell_type": "markdown",
   "id": "8eddfecb",
   "metadata": {},
   "source": [
    "# IFR"
   ]
  },
  {
   "cell_type": "code",
   "execution_count": null,
   "id": "17714a1d",
   "metadata": {},
   "outputs": [],
   "source": [
    "d_mu, d_std, d_min = 800, 200, 400\n",
    "alpha, L, R = 0.95, 4, 1\n",
    "x_mu_p = (R+L)*(d_mu - d_min)  #mu_x'\n",
    "x_std = np.sqrt(R+L)*d_std  #std_x\n",
    "x_shape_p = x_mu_p**2/x_std**2   # k\n",
    "x_scale_p = x_std**2/x_mu_p   # theta\n",
    "S_p = round(gamma.ppf(alpha, x_shape_p, scale=x_scale_p),0)   # S'\n",
    "S = S_p + (R+L)*d_min\n",
    "units_short = gamma_loss(S-d_min*(R+L), x_mu_p, x_std)\n",
    "beta = 1 - units_short/(d_mu*R)"
   ]
  },
  {
   "cell_type": "code",
   "execution_count": null,
   "id": "f02049ad",
   "metadata": {},
   "outputs": [],
   "source": [
    "print(beta)"
   ]
  },
  {
   "cell_type": "markdown",
   "id": "ecaa8952",
   "metadata": {},
   "source": [
    "## Gamma inverse loss function"
   ]
  },
  {
   "cell_type": "code",
   "execution_count": 8,
   "id": "efe6c4c6",
   "metadata": {},
   "outputs": [],
   "source": [
    "from scipy import optimize\n",
    "import numpy as np\n",
    "from scipy.stats import gamma\n",
    "\n",
    "\n",
    "def gamma_loss_inverse(x_mu, x_std, d_c, beta):\n",
    "    target = d_c*(1-beta)\n",
    "    shape = x_mu**2/x_std**2\n",
    "    scale = x_std**2/x_mu\n",
    "    \n",
    "    def unit_shorts(inv):\n",
    "        return  shape*scale*(1-gamma.cdf(inv, shape+1, scale=scale))-inv*(1-gamma.cdf(inv, shape,scale=scale))\n",
    "    \n",
    "    def f(inv):\n",
    "        return abs(unit_shorts(inv) - target)\n",
    "    \n",
    "    result = optimize.minimize_scalar(f)\n",
    "    \n",
    "    return result.x\n",
    "        "
   ]
  },
  {
   "cell_type": "code",
   "execution_count": 9,
   "id": "8fbd1078",
   "metadata": {},
   "outputs": [
    {
     "name": "stdout",
     "output_type": "stream",
     "text": [
      "S: 132515 \tFill Rate: 100.0\n"
     ]
    }
   ],
   "source": [
    "beta = 0.95\n",
    "R, L = 1, 4\n",
    "d_mu, d_std = 800,200\n",
    "\n",
    "d_c = R*d_mu\n",
    "x_mu = (R+L)*d_mu\n",
    "x_std = np.sqrt(R+L)*d_std\n",
    "\n",
    "S = round(gamma_loss_inverse(x_mu, x_std, d_c, beta))  \n",
    "fill_rate = 1- gamma_loss(S, x_mu, x_std)/d_c\n",
    "\n",
    "print('S:', int(S), '\\tFill Rate:', round(fill_rate,3)*100)"
   ]
  },
  {
   "cell_type": "markdown",
   "id": "48010cd9",
   "metadata": {},
   "source": [
    "### 9.6.2 Random Lead time"
   ]
  },
  {
   "cell_type": "code",
   "execution_count": 12,
   "id": "3346b273",
   "metadata": {},
   "outputs": [
    {
     "ename": "NameError",
     "evalue": "name 'time' is not defined",
     "output_type": "error",
     "traceback": [
      "\u001b[1;31m---------------------------------------------------------------------------\u001b[0m",
      "\u001b[1;31mNameError\u001b[0m                                 Traceback (most recent call last)",
      "\u001b[1;32m<ipython-input-12-a0ffe6dbe22a>\u001b[0m in \u001b[0;36m<module>\u001b[1;34m\u001b[0m\n\u001b[0;32m      3\u001b[0m \u001b[0md_shape_p\u001b[0m \u001b[1;33m=\u001b[0m \u001b[0md_mu_p\u001b[0m\u001b[1;33m**\u001b[0m\u001b[1;36m2\u001b[0m\u001b[1;33m/\u001b[0m\u001b[0md_std\u001b[0m\u001b[1;33m**\u001b[0m\u001b[1;36m2\u001b[0m  \u001b[1;31m# k_d\u001b[0m\u001b[1;33m\u001b[0m\u001b[1;33m\u001b[0m\u001b[0m\n\u001b[0;32m      4\u001b[0m \u001b[0md_scale_p\u001b[0m \u001b[1;33m=\u001b[0m \u001b[0md_std\u001b[0m\u001b[1;33m**\u001b[0m\u001b[1;36m2\u001b[0m\u001b[1;33m/\u001b[0m\u001b[0md_mu_p\u001b[0m    \u001b[1;31m# theta_d\u001b[0m\u001b[1;33m\u001b[0m\u001b[1;33m\u001b[0m\u001b[0m\n\u001b[1;32m----> 5\u001b[1;33m \u001b[0md\u001b[0m \u001b[1;33m=\u001b[0m \u001b[0mnp\u001b[0m\u001b[1;33m.\u001b[0m\u001b[0mmaximum\u001b[0m\u001b[1;33m(\u001b[0m\u001b[0mnp\u001b[0m\u001b[1;33m.\u001b[0m\u001b[0mrandom\u001b[0m\u001b[1;33m.\u001b[0m\u001b[0mgamma\u001b[0m\u001b[1;33m(\u001b[0m\u001b[0md_shape_p\u001b[0m\u001b[1;33m,\u001b[0m\u001b[0md_scale_p\u001b[0m\u001b[1;33m,\u001b[0m \u001b[0mtime\u001b[0m\u001b[1;33m)\u001b[0m\u001b[1;33m.\u001b[0m\u001b[0mround\u001b[0m\u001b[1;33m(\u001b[0m\u001b[1;36m0\u001b[0m\u001b[1;33m)\u001b[0m\u001b[1;33m.\u001b[0m\u001b[0mastype\u001b[0m\u001b[1;33m(\u001b[0m\u001b[0mint\u001b[0m\u001b[1;33m)\u001b[0m\u001b[1;33m+\u001b[0m\u001b[0md_min\u001b[0m\u001b[1;33m,\u001b[0m\u001b[1;36m0\u001b[0m\u001b[1;33m)\u001b[0m\u001b[1;33m\u001b[0m\u001b[1;33m\u001b[0m\u001b[0m\n\u001b[0m",
      "\u001b[1;31mNameError\u001b[0m: name 'time' is not defined"
     ]
    }
   ],
   "source": [
    "d_mu, d_std, d_min = 100,25,0\n",
    "d_mu_p = d_mu - d_min\n",
    "d_shape_p = d_mu_p**2/d_std**2  # k_d\n",
    "d_scale_p = d_std**2/d_mu_p    # theta_d\n",
    "d = np.maximum(np.random.gamma(d_shape_p,d_scale_p, time).round(0).astype(int)+d_min,0)"
   ]
  },
  {
   "cell_type": "code",
   "execution_count": 13,
   "id": "7ef3e3e6",
   "metadata": {},
   "outputs": [],
   "source": [
    "R, L = 1, 4\n",
    "d_c = R*d_mu\n",
    "x_std = np.sqrt((R+L)*d_std**2)\n",
    "x_mu_p = (R+L)*(d_mu-d_min)\n",
    "x_shape_p = x_mu_p**2/x_std**2   # k\n",
    "x_scale_p = x_std**2/x_mu_p   # theta"
   ]
  },
  {
   "cell_type": "code",
   "execution_count": 15,
   "id": "9f977c7b",
   "metadata": {},
   "outputs": [],
   "source": [
    "# Set CSL\n",
    "\n",
    "alpha  = 0.95\n",
    "S_p = round(gamma.ppf(alpha,x_shape_p, scale=x_scale_p),0)\n",
    "beta = 1 - gamma_loss(S_p, x_mu_p, x_std)/d_c\n",
    "S = S_p + (R+L)*d_min\n"
   ]
  },
  {
   "cell_type": "code",
   "execution_count": 16,
   "id": "fcb50b9d",
   "metadata": {},
   "outputs": [],
   "source": [
    "# Set IFR\n",
    "\n",
    "beta = 0.99\n",
    "S_p = round(gamma_loss_inverse(x_mu_p, x_std, d_c, beta))\n",
    "alpha = gamma.cdf(S_p, x_shape_p, scale=x_scale_p)\n",
    "S = S_p + (R+L)*d_min"
   ]
  },
  {
   "cell_type": "code",
   "execution_count": 17,
   "id": "566355a8",
   "metadata": {},
   "outputs": [
    {
     "ename": "NameError",
     "evalue": "name 't' is not defined",
     "output_type": "error",
     "traceback": [
      "\u001b[1;31m---------------------------------------------------------------------------\u001b[0m",
      "\u001b[1;31mNameError\u001b[0m                                 Traceback (most recent call last)",
      "\u001b[1;32m<ipython-input-17-25f54c7a7bad>\u001b[0m in \u001b[0;36m<module>\u001b[1;34m\u001b[0m\n\u001b[0;32m      3\u001b[0m \u001b[0mSs\u001b[0m \u001b[1;33m=\u001b[0m \u001b[0mS\u001b[0m \u001b[1;33m-\u001b[0m \u001b[1;36m2\u001b[0m\u001b[1;33m*\u001b[0m\u001b[0mCs\u001b[0m \u001b[1;33m-\u001b[0m \u001b[0mIs\u001b[0m\u001b[1;33m\u001b[0m\u001b[1;33m\u001b[0m\u001b[0m\n\u001b[0;32m      4\u001b[0m \u001b[1;33m\u001b[0m\u001b[0m\n\u001b[1;32m----> 5\u001b[1;33m \u001b[1;32mif\u001b[0m \u001b[0mt\u001b[0m\u001b[1;33m%\u001b[0m\u001b[0mR\u001b[0m\u001b[1;33m==\u001b[0m\u001b[1;36m0\u001b[0m\u001b[1;33m:\u001b[0m\u001b[1;33m\u001b[0m\u001b[1;33m\u001b[0m\u001b[0m\n\u001b[0m\u001b[0;32m      6\u001b[0m \u001b[1;33m\u001b[0m\u001b[0m\n\u001b[0;32m      7\u001b[0m     \u001b[0mactual_L\u001b[0m\u001b[1;33m=\u001b[0m\u001b[0mint\u001b[0m\u001b[1;33m(\u001b[0m\u001b[0mround\u001b[0m\u001b[1;33m(\u001b[0m\u001b[0mnp\u001b[0m\u001b[1;33m.\u001b[0m\u001b[0mrandom\u001b[0m\u001b[1;33m.\u001b[0m\u001b[0mgamma\u001b[0m\u001b[1;33m(\u001b[0m\u001b[0mL_shape\u001b[0m\u001b[1;33m,\u001b[0m \u001b[0mL_scale\u001b[0m\u001b[1;33m)\u001b[0m\u001b[1;33m,\u001b[0m\u001b[1;36m0\u001b[0m\u001b[1;33m)\u001b[0m\u001b[1;33m)\u001b[0m\u001b[1;33m\u001b[0m\u001b[1;33m\u001b[0m\u001b[0m\n",
      "\u001b[1;31mNameError\u001b[0m: name 't' is not defined"
     ]
    }
   ],
   "source": [
    "Cs = 1/2*d_mu*R\n",
    "Is = d_mu*L\n",
    "Ss = S - 2*Cs - Is\n",
    "\n",
    "if t%R==0:\n",
    "    \n",
    "    actual_L=int(round(np.random.gamma(L_shape, L_scale),0))\n",
    "    net = hand[t] + transit[t].sum()\n",
    "    transit[t, actual_L] = S - net"
   ]
  },
  {
   "cell_type": "code",
   "execution_count": null,
   "id": "d565d4da",
   "metadata": {},
   "outputs": [],
   "source": [
    "#Put it before !!!!\n",
    "\n",
    "L_shape = L**2/L_std**2\n",
    "L_scale = L_std**2/L"
   ]
  }
 ],
 "metadata": {
  "kernelspec": {
   "display_name": "Python 3",
   "language": "python",
   "name": "python3"
  },
  "language_info": {
   "codemirror_mode": {
    "name": "ipython",
    "version": 3
   },
   "file_extension": ".py",
   "mimetype": "text/x-python",
   "name": "python",
   "nbconvert_exporter": "python",
   "pygments_lexer": "ipython3",
   "version": "3.8.10"
  }
 },
 "nbformat": 4,
 "nbformat_minor": 5
}
