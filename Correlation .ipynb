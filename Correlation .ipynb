{
 "cells": [
  {
   "cell_type": "code",
   "execution_count": 1,
   "id": "e82f097a",
   "metadata": {},
   "outputs": [],
   "source": [
    "#Correlation pg 62"
   ]
  },
  {
   "cell_type": "code",
   "execution_count": 2,
   "id": "4a3a0b92",
   "metadata": {},
   "outputs": [
    {
     "name": "stdout",
     "output_type": "stream",
     "text": [
      "[[1.         0.97590007]\n",
      " [0.97590007 1.        ]]\n"
     ]
    }
   ],
   "source": [
    "import numpy as np\n",
    "a = [1, 2, 3, 4, 5, 6, 7, 8]\n",
    "b = [1, 1, 2, 2, 3, 3, 4, 4]\n",
    "print(np.corrcoef(a,b))"
   ]
  },
  {
   "cell_type": "code",
   "execution_count": 3,
   "id": "411cdcc1",
   "metadata": {},
   "outputs": [
    {
     "name": "stdout",
     "output_type": "stream",
     "text": [
      "0.9759000729485332\n"
     ]
    }
   ],
   "source": [
    "print(np.corrcoef(a,b)[0,1])"
   ]
  },
  {
   "cell_type": "code",
   "execution_count": null,
   "id": "b671b5ce",
   "metadata": {},
   "outputs": [],
   "source": []
  }
 ],
 "metadata": {
  "kernelspec": {
   "display_name": "Python 3",
   "language": "python",
   "name": "python3"
  },
  "language_info": {
   "codemirror_mode": {
    "name": "ipython",
    "version": 3
   },
   "file_extension": ".py",
   "mimetype": "text/x-python",
   "name": "python",
   "nbconvert_exporter": "python",
   "pygments_lexer": "ipython3",
   "version": "3.8.10"
  }
 },
 "nbformat": 4,
 "nbformat_minor": 5
}
