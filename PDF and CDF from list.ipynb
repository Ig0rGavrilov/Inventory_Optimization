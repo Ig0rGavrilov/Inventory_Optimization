{
 "cells": [
  {
   "cell_type": "code",
   "execution_count": 5,
   "id": "18f6199f",
   "metadata": {},
   "outputs": [
    {
     "name": "stdout",
     "output_type": "stream",
     "text": [
      "[100.         106.33367758 113.11001282 121.04053084 132.03878914\n",
      " 141.12134067 148.99909961 158.15869685]\n"
     ]
    }
   ],
   "source": [
    "from scipy.stats import norm\n",
    "mu, sigma = 100, 25\n",
    "alpha = [0.5, 0.6, 0.7, 0.8, 0.9, 0.95, 0.975, 0.99]\n",
    "inv = norm.ppf(alpha, mu, sigma)\n",
    "print(inv)"
   ]
  },
  {
   "cell_type": "code",
   "execution_count": 7,
   "id": "11d43fa8",
   "metadata": {},
   "outputs": [
    {
     "name": "stdout",
     "output_type": "stream",
     "text": [
      "[0.5        0.59483487 0.69846821 0.79954581 0.89972743 0.94949742\n",
      " 0.9750021  0.98982956]\n"
     ]
    }
   ],
   "source": [
    "inv = [100, 106, 113, 121, 132, 141, 149, 158]\n",
    "alpha = norm.cdf(inv, mu, sigma)\n",
    "print(alpha)"
   ]
  },
  {
   "cell_type": "code",
   "execution_count": null,
   "id": "d78f3d1c",
   "metadata": {},
   "outputs": [],
   "source": []
  }
 ],
 "metadata": {
  "kernelspec": {
   "display_name": "Python 3",
   "language": "python",
   "name": "python3"
  },
  "language_info": {
   "codemirror_mode": {
    "name": "ipython",
    "version": 3
   },
   "file_extension": ".py",
   "mimetype": "text/x-python",
   "name": "python",
   "nbconvert_exporter": "python",
   "pygments_lexer": "ipython3",
   "version": "3.8.10"
  }
 },
 "nbformat": 4,
 "nbformat_minor": 5
}
