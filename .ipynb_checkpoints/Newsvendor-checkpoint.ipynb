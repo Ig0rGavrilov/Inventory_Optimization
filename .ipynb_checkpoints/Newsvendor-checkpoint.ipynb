{
 "cells": [
  {
   "cell_type": "code",
   "execution_count": 6,
   "id": "e87765d5",
   "metadata": {},
   "outputs": [],
   "source": [
    "import numpy as np\n",
    "\n",
    "demand = [0,2,4,6,8,10]\n",
    "pmf=[0.4,0.2,0.2,0.1,0.05,0.05]\n",
    "quantity=[2,4,6,8,10]\n",
    "p=6   # price\n",
    "c=2   # cost\n",
    "s_v=1  # salvage value"
   ]
  },
  {
   "cell_type": "code",
   "execution_count": 7,
   "id": "db7e498b",
   "metadata": {},
   "outputs": [],
   "source": [
    "result=np.empty(shape=(len(demand),len(quantity)))\n",
    "\n",
    "for row, d in enumerate(demand):\n",
    "    for column, q in enumerate(quantity):\n",
    "        result[row,column]= min(q,d)*p-q*c+max(0,q-d)*s_v"
   ]
  },
  {
   "cell_type": "code",
   "execution_count": 8,
   "id": "23714d33",
   "metadata": {},
   "outputs": [
    {
     "name": "stdout",
     "output_type": "stream",
     "text": [
      "[[ -2.  -4.  -6.  -8. -10.]\n",
      " [  8.   6.   4.   2.   0.]\n",
      " [  8.  16.  14.  12.  10.]\n",
      " [  8.  16.  24.  22.  20.]\n",
      " [  8.  16.  24.  32.  30.]\n",
      " [  8.  16.  24.  32.  40.]]\n"
     ]
    }
   ],
   "source": [
    "print(result)"
   ]
  },
  {
   "cell_type": "code",
   "execution_count": 11,
   "id": "07ba5d94",
   "metadata": {},
   "outputs": [],
   "source": [
    "profits = np.empty(shape=len(quantity))\n",
    "\n",
    "for column in range(len(quantity)):\n",
    "    profits[column] = sum(result[:,column]*pmf)"
   ]
  },
  {
   "cell_type": "code",
   "execution_count": 12,
   "id": "687f10f9",
   "metadata": {},
   "outputs": [
    {
     "name": "stdout",
     "output_type": "stream",
     "text": [
      "[4.  6.  6.  5.  3.5]\n"
     ]
    }
   ],
   "source": [
    "print(profits)"
   ]
  },
  {
   "cell_type": "code",
   "execution_count": 13,
   "id": "65dac7a2",
   "metadata": {},
   "outputs": [
    {
     "name": "stdout",
     "output_type": "stream",
     "text": [
      "EOQ: 6 \n",
      "Profits: 6.000000000000001\n"
     ]
    }
   ],
   "source": [
    "EOQ = quantity[np.argmax(profits)]\n",
    "print('EOQ:', EOQ, '\\nProfits:', max(profits))"
   ]
  },
  {
   "cell_type": "code",
   "execution_count": null,
   "id": "2aef64cd",
   "metadata": {},
   "outputs": [],
   "source": []
  }
 ],
 "metadata": {
  "kernelspec": {
   "display_name": "Python 3",
   "language": "python",
   "name": "python3"
  },
  "language_info": {
   "codemirror_mode": {
    "name": "ipython",
    "version": 3
   },
   "file_extension": ".py",
   "mimetype": "text/x-python",
   "name": "python",
   "nbconvert_exporter": "python",
   "pygments_lexer": "ipython3",
   "version": "3.8.10"
  }
 },
 "nbformat": 4,
 "nbformat_minor": 5
}
