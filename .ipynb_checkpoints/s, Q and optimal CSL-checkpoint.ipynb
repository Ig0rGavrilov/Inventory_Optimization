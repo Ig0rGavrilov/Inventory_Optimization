{
 "cells": [
  {
   "cell_type": "markdown",
   "id": "867482c5",
   "metadata": {},
   "source": [
    "s,Q and optimal CSL pg136\n"
   ]
  },
  {
   "cell_type": "code",
   "execution_count": 37,
   "id": "63e9e7fb",
   "metadata": {},
   "outputs": [],
   "source": [
    "from scipy.stats import norm\n",
    "import numpy as np"
   ]
  },
  {
   "cell_type": "code",
   "execution_count": 39,
   "id": "e6e4f725",
   "metadata": {},
   "outputs": [],
   "source": [
    "def normal_loss_standard(x):\n",
    "    return norm.pdf(x)-x*(1-norm.cdf(x))\n"
   ]
  },
  {
   "cell_type": "code",
   "execution_count": 40,
   "id": "d0a30a4f",
   "metadata": {},
   "outputs": [],
   "source": [
    "def EOQ(k,D,h):\n",
    "    return np.sqrt(2*D*k/h)\n"
   ]
  },
  {
   "cell_type": "code",
   "execution_count": 41,
   "id": "330abe8f",
   "metadata": {},
   "outputs": [],
   "source": [
    "def CSL_optimal(h, Q,D,b):\n",
    "    return (1-(h*Q)/(D*b))"
   ]
  },
  {
   "cell_type": "code",
   "execution_count": 42,
   "id": "ae8a5832",
   "metadata": {},
   "outputs": [],
   "source": [
    "def Q_optimal(k,D,h,b,z,x_std):\n",
    "    return np.sqrt(2*(k+b*x_std*normal_loss_standard(z))*D/h)"
   ]
  },
  {
   "cell_type": "code",
   "execution_count": 43,
   "id": "ec5fab3f",
   "metadata": {},
   "outputs": [],
   "source": [
    "def sQ_optimal(k,D,h,b,x_std):\n",
    "    Q=EOQ(k,D,h)\n",
    "    Q_old=0\n",
    "    while Q_old != Q:\n",
    "        Q_old = Q\n",
    "        z=norm.ppf(CSL_optimal(h,Q,D,b))\n",
    "        Q=round(Q_optimal(k,D,h,b,z,x_std))\n",
    "    return z,Q"
   ]
  },
  {
   "cell_type": "code",
   "execution_count": 44,
   "id": "4a68dd1c",
   "metadata": {},
   "outputs": [],
   "source": [
    "k=1000\n",
    "D=52*100\n",
    "h=1.25*52\n",
    "b=50\n",
    "x_std=25"
   ]
  },
  {
   "cell_type": "code",
   "execution_count": 45,
   "id": "109777e9",
   "metadata": {},
   "outputs": [
    {
     "name": "stdout",
     "output_type": "stream",
     "text": [
      "(1.2646411356610803, 412)\n"
     ]
    }
   ],
   "source": [
    "print(sQ_optimal(k,D,h,b,x_std))"
   ]
  },
  {
   "cell_type": "code",
   "execution_count": null,
   "id": "dab0c7c3",
   "metadata": {},
   "outputs": [],
   "source": []
  },
  {
   "cell_type": "code",
   "execution_count": null,
   "id": "278f62ca",
   "metadata": {},
   "outputs": [],
   "source": []
  }
 ],
 "metadata": {
  "kernelspec": {
   "display_name": "Python 3",
   "language": "python",
   "name": "python3"
  },
  "language_info": {
   "codemirror_mode": {
    "name": "ipython",
    "version": 3
   },
   "file_extension": ".py",
   "mimetype": "text/x-python",
   "name": "python",
   "nbconvert_exporter": "python",
   "pygments_lexer": "ipython3",
   "version": "3.8.10"
  }
 },
 "nbformat": 4,
 "nbformat_minor": 5
}
