{
 "cells": [
  {
   "cell_type": "code",
   "execution_count": 1,
   "id": "f09ecea6",
   "metadata": {},
   "outputs": [],
   "source": [
    "from scipy.stats import norm\n",
    "import pandas as pd\n",
    "import matplotlib.pyplot as plt\n",
    "import numpy as np"
   ]
  },
  {
   "cell_type": "code",
   "execution_count": 2,
   "id": "02940835",
   "metadata": {},
   "outputs": [],
   "source": [
    "def normal_loss(inv, mu, std):\n",
    "    return std**2*norm.pdf(inv, mu, std) + (mu - inv)*(1 - norm.cdf(inv, mu, std))"
   ]
  },
  {
   "cell_type": "code",
   "execution_count": null,
   "id": "49076bdc",
   "metadata": {},
   "outputs": [],
   "source": []
  }
 ],
 "metadata": {
  "kernelspec": {
   "display_name": "Python 3",
   "language": "python",
   "name": "python3"
  },
  "language_info": {
   "codemirror_mode": {
    "name": "ipython",
    "version": 3
   },
   "file_extension": ".py",
   "mimetype": "text/x-python",
   "name": "python",
   "nbconvert_exporter": "python",
   "pygments_lexer": "ipython3",
   "version": "3.8.10"
  }
 },
 "nbformat": 4,
 "nbformat_minor": 5
}
