{
 "cells": [
  {
   "cell_type": "code",
   "execution_count": 1,
   "id": "4513c332",
   "metadata": {},
   "outputs": [],
   "source": [
    "# Simulation R,S where Lead Time stochastic, normaly distributed\n",
    "# Lead time 4 and standard deviation 1. Demand mean = 100, std dev = 25 \n",
    "# 100 periods\n",
    "import numpy as np\n",
    "import pandas as pd\n",
    "import matplotlib.pyplot as plt\n",
    "from scipy.stats import norm\n",
    "time = 100\n",
    "d_mu = 100\n",
    "d_std = 25\n",
    "L, R, alpha = 4, 1, 0.95\n",
    "z = norm.ppf(alpha)\n",
    "d = np.maximum(np.random.normal(d_mu, d_std, time).round(0).astype(int), 0)"
   ]
  },
  {
   "cell_type": "code",
   "execution_count": 2,
   "id": "ef67c6a5",
   "metadata": {},
   "outputs": [],
   "source": [
    "L, L_std = 4, 1\n",
    "x_std = np.sqrt((R+L)*d_std**2+L_std**2*d_mu**2)\n",
    "Ss = np.round(x_std*z).astype(int)\n",
    "Cs = 1/2 * d_mu * R\n",
    "Is = d_mu * L\n",
    "S = Ss + 2 * Cs + Is"
   ]
  },
  {
   "cell_type": "code",
   "execution_count": 3,
   "id": "74078006",
   "metadata": {},
   "outputs": [],
   "source": [
    "transit = np.zeros((time, L+ 5*L_std + 1), dtype=int)\n",
    "transit[0,L] = d[0]\n"
   ]
  },
  {
   "cell_type": "code",
   "execution_count": 4,
   "id": "3769e013",
   "metadata": {},
   "outputs": [],
   "source": [
    "hand = np.zeros(time, dtype=int)\n",
    "transit = np.zeros((time, L+R), dtype=int)"
   ]
  },
  {
   "cell_type": "code",
   "execution_count": 5,
   "id": "653841d3",
   "metadata": {},
   "outputs": [],
   "source": [
    "stockout_period = np.full(time, False, dtype=bool)\n",
    "stockout_cycle = []"
   ]
  },
  {
   "cell_type": "code",
   "execution_count": null,
   "id": "6c69e18c",
   "metadata": {},
   "outputs": [],
   "source": []
  },
  {
   "cell_type": "code",
   "execution_count": 6,
   "id": "d7a68c60",
   "metadata": {},
   "outputs": [],
   "source": [
    "for t in range(1,time):\n",
    "    if transit[t-1, 0] >0:\n",
    "        stockout_cycle.append(stockout_period[t-1])\n",
    "    hand[t] = hand[t-1] - d[t] + transit[t-1,0]\n",
    "    stockout_period[t] = hand[t] < 0\n",
    "    transit[t, :-1] = transit[t-1, 1:]\n",
    "    if t%R==0:\n",
    "        actual_L = int(round(max(np.random.normal(L, L_std), 0), 0))\n",
    "        net = hand[t] + transit[t].sum()\n",
    "        transit[t, L] = S - net"
   ]
  },
  {
   "cell_type": "code",
   "execution_count": 8,
   "id": "e8af4567",
   "metadata": {},
   "outputs": [
    {
     "data": {
      "text/plain": [
       "<matplotlib.axes._subplots.AxesSubplot at 0x19c8756eaf0>"
      ]
     },
     "execution_count": 8,
     "metadata": {},
     "output_type": "execute_result"
    },
    {
     "data": {
      "image/png": "[encoded data removed]",
      "text/plain": [
       "<Figure size 432x288 with 1 Axes>"
      ]
     },
     "metadata": {
      "needs_background": "light"
     },
     "output_type": "display_data"
    }
   ],
   "source": [
    "df = pd.DataFrame(data = {\"Demand\":d, \"On-hand\":hand, \"In Transit\":list(transit)})\n",
    "df = df.iloc[R+L: , :]\n",
    "#print(df)\n",
    "df[\"On-hand\"].plot(title=\"Inventory Policy (%d, %d)\" %(R,S), ylim = (0,S), legend = True)"
   ]
  },
  {
   "cell_type": "code",
   "execution_count": null,
   "id": "9a1ba542",
   "metadata": {},
   "outputs": [],
   "source": []
  },
  {
   "cell_type": "code",
   "execution_count": null,
   "id": "69b4bce6",
   "metadata": {},
   "outputs": [],
   "source": []
  }
 ],
 "metadata": {
  "kernelspec": {
   "display_name": "Python 3",
   "language": "python",
   "name": "python3"
  },
  "language_info": {
   "codemirror_mode": {
    "name": "ipython",
    "version": 3
   },
   "file_extension": ".py",
   "mimetype": "text/x-python",
   "name": "python",
   "nbconvert_exporter": "python",
   "pygments_lexer": "ipython3",
   "version": "3.8.10"
  }
 },
 "nbformat": 4,
 "nbformat_minor": 5
}
