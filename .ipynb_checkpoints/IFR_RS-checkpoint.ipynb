{
 "cells": [
  {
   "cell_type": "code",
   "execution_count": 11,
   "id": "a0865b0d",
   "metadata": {},
   "outputs": [],
   "source": [
    "# R, S simulation with IFR pg119"
   ]
  },
  {
   "cell_type": "code",
   "execution_count": 30,
   "id": "0d2f3ca4",
   "metadata": {},
   "outputs": [],
   "source": [
    "import numpy as np\n",
    "\n",
    "coefficients = [ 4.41738119e-09, 1.79200966e-07, 3.01634229e-06,\n",
    "2.63537452e-05, 1.12381749e-04, 5.71289020e-06,\n",
    "-2.64198510e-03, -1.59986142e-02, -5.60399292e-02,\n",
    "-1.48968884e-01, -3.68776346e-01, -1.22551895e+00,\n",
    "-8.99375602e-01]\n",
    "\n",
    "def inverse_standard_loss(target):\n",
    "    x = np.log(target)\n",
    "    z = np.polyval(coefficients, x)\n",
    "    return z"
   ]
  },
  {
   "cell_type": "code",
   "execution_count": 31,
   "id": "d15cff97",
   "metadata": {},
   "outputs": [],
   "source": [
    "from scipy.stats import norm\n",
    "import numpy as np\n"
   ]
  },
  {
   "cell_type": "code",
   "execution_count": 32,
   "id": "7ad86c97",
   "metadata": {},
   "outputs": [],
   "source": [
    "time = 100\n",
    "d_mu = 100\n",
    "d_std = 25\n",
    "L, R = 4, 1"
   ]
  },
  {
   "cell_type": "code",
   "execution_count": 33,
   "id": "e1d97442",
   "metadata": {},
   "outputs": [],
   "source": [
    "beta = 0.95\n",
    "d_c = d_mu*R"
   ]
  },
  {
   "cell_type": "code",
   "execution_count": 34,
   "id": "aae7ca45",
   "metadata": {},
   "outputs": [],
   "source": [
    "target = d_c *(1-beta)/x_std\n",
    "z = inverse_standard_loss(target)\n",
    "alpha = norm.cdf(z)"
   ]
  },
  {
   "cell_type": "code",
   "execution_count": 35,
   "id": "64e39ff5",
   "metadata": {},
   "outputs": [],
   "source": [
    "L, L_std = 4, 1\n",
    "x_std = np.sqrt((R+L)*d_std**2+L_std**2*d_mu**2)\n",
    "Ss = np.round(x_std*z).astype(int)\n",
    "Cs = 1/2 * d_mu * R\n",
    "Is = d_mu * L\n",
    "S = Ss + 2 * Cs + Is"
   ]
  },
  {
   "cell_type": "code",
   "execution_count": 39,
   "id": "20a273fe",
   "metadata": {},
   "outputs": [],
   "source": [
    "d = np.maximum(np.random.normal(d_mu, d_std, time).round(0).astype(int), 0)"
   ]
  },
  {
   "cell_type": "code",
   "execution_count": 40,
   "id": "ee5f5778",
   "metadata": {},
   "outputs": [],
   "source": [
    "transit = np.zeros((time, L+ 5*L_std + 1), dtype=int)\n",
    "transit[0,L] = d[0]"
   ]
  },
  {
   "cell_type": "code",
   "execution_count": 43,
   "id": "a9ba4ccd",
   "metadata": {},
   "outputs": [],
   "source": [
    "hand = np.zeros(time, dtype=int)\n",
    "transit = np.zeros((time, L+R), dtype=int)"
   ]
  },
  {
   "cell_type": "code",
   "execution_count": 49,
   "id": "9a486d7d",
   "metadata": {},
   "outputs": [],
   "source": [
    "stockout_period = np.full(time, False, dtype=bool)\n",
    "stockout_cycle = []"
   ]
  },
  {
   "cell_type": "code",
   "execution_count": 50,
   "id": "cccd7b52",
   "metadata": {},
   "outputs": [],
   "source": [
    "unit_shorts = np.zeros(time, dtype=int)"
   ]
  },
  {
   "cell_type": "code",
   "execution_count": 51,
   "id": "3a39a823",
   "metadata": {},
   "outputs": [
    {
     "ename": "IndexError",
     "evalue": "index 7 is out of bounds for axis 1 with size 5",
     "output_type": "error",
     "traceback": [
      "\u001b[1;31m---------------------------------------------------------------------------\u001b[0m",
      "\u001b[1;31mIndexError\u001b[0m                                Traceback (most recent call last)",
      "\u001b[1;32m<ipython-input-51-72754669a243>\u001b[0m in \u001b[0;36m<module>\u001b[1;34m\u001b[0m\n\u001b[0;32m      9\u001b[0m         \u001b[0mactual_L\u001b[0m \u001b[1;33m=\u001b[0m \u001b[0mint\u001b[0m\u001b[1;33m(\u001b[0m\u001b[0mround\u001b[0m\u001b[1;33m(\u001b[0m\u001b[0mmax\u001b[0m\u001b[1;33m(\u001b[0m\u001b[0mnp\u001b[0m\u001b[1;33m.\u001b[0m\u001b[0mrandom\u001b[0m\u001b[1;33m.\u001b[0m\u001b[0mnormal\u001b[0m\u001b[1;33m(\u001b[0m\u001b[0mL\u001b[0m\u001b[1;33m,\u001b[0m\u001b[0mL_std\u001b[0m\u001b[1;33m)\u001b[0m\u001b[1;33m,\u001b[0m \u001b[1;36m0\u001b[0m\u001b[1;33m)\u001b[0m\u001b[1;33m,\u001b[0m \u001b[1;36m0\u001b[0m\u001b[1;33m)\u001b[0m\u001b[1;33m)\u001b[0m\u001b[1;33m\u001b[0m\u001b[1;33m\u001b[0m\u001b[0m\n\u001b[0;32m     10\u001b[0m         \u001b[0mnet\u001b[0m \u001b[1;33m=\u001b[0m \u001b[0mhand\u001b[0m\u001b[1;33m[\u001b[0m\u001b[0mt\u001b[0m\u001b[1;33m]\u001b[0m \u001b[1;33m+\u001b[0m \u001b[0mtransit\u001b[0m\u001b[1;33m[\u001b[0m\u001b[0mt\u001b[0m\u001b[1;33m]\u001b[0m\u001b[1;33m.\u001b[0m\u001b[0msum\u001b[0m\u001b[1;33m(\u001b[0m\u001b[1;33m)\u001b[0m\u001b[1;33m\u001b[0m\u001b[1;33m\u001b[0m\u001b[0m\n\u001b[1;32m---> 11\u001b[1;33m         \u001b[0mtransit\u001b[0m\u001b[1;33m[\u001b[0m\u001b[0mt\u001b[0m\u001b[1;33m,\u001b[0m \u001b[0mactual_L\u001b[0m\u001b[1;33m]\u001b[0m \u001b[1;33m=\u001b[0m \u001b[0mS\u001b[0m \u001b[1;33m-\u001b[0m \u001b[0mnet\u001b[0m\u001b[1;33m\u001b[0m\u001b[1;33m\u001b[0m\u001b[0m\n\u001b[0m",
      "\u001b[1;31mIndexError\u001b[0m: index 7 is out of bounds for axis 1 with size 5"
     ]
    }
   ],
   "source": [
    "for t in range(1,time):\n",
    "    if transit[t-1,0]>0:\n",
    "        stockout_cycle.append(stockout_period[t-1])\n",
    "    unit_shorts[t] = max(0,d[t] - max(0,hand[t-1] + transit[t-1,0]))\n",
    "    hand[t] = hand[t-1] - d[t] + transit[t-1,0]\n",
    "    stockout_period[t] = hand[t] <0\n",
    "    transit[t, :-1] = transit[t-1, 1:]\n",
    "    if t%R ==0:\n",
    "        actual_L = int(round(max(np.random.normal(L,L_std), 0), 0))\n",
    "        net = hand[t] + transit[t].sum()\n",
    "        transit[t, actual_L] = S - net"
   ]
  },
  {
   "cell_type": "code",
   "execution_count": 52,
   "id": "eb30b91d",
   "metadata": {},
   "outputs": [
    {
     "name": "stdout",
     "output_type": "stream",
     "text": [
      "Fill Rate: 98.4\n"
     ]
    }
   ],
   "source": [
    "fill_rate = 1 - unit_shorts.sum()/sum(d)\n",
    "print(\"Fill Rate:\", round(fill_rate*100,1))"
   ]
  },
  {
   "cell_type": "code",
   "execution_count": null,
   "id": "194231e9",
   "metadata": {},
   "outputs": [],
   "source": []
  }
 ],
 "metadata": {
  "kernelspec": {
   "display_name": "Python 3",
   "language": "python",
   "name": "python3"
  },
  "language_info": {
   "codemirror_mode": {
    "name": "ipython",
    "version": 3
   },
   "file_extension": ".py",
   "mimetype": "text/x-python",
   "name": "python",
   "nbconvert_exporter": "python",
   "pygments_lexer": "ipython3",
   "version": "3.8.10"
  }
 },
 "nbformat": 4,
 "nbformat_minor": 5
}
