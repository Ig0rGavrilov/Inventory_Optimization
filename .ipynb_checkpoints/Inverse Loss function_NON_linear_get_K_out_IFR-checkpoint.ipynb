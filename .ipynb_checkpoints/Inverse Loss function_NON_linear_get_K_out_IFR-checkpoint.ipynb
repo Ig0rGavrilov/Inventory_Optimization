{
 "cells": [
  {
   "cell_type": "code",
   "execution_count": 3,
   "id": "8ca45890",
   "metadata": {},
   "outputs": [],
   "source": [
    "from scipy.stats import norm\n",
    "d_c, x_std, beta = 100, 50, 0.99\n",
    "target = d_c*(1-beta)/x_std"
   ]
  },
  {
   "cell_type": "code",
   "execution_count": 4,
   "id": "73286049",
   "metadata": {},
   "outputs": [],
   "source": [
    "def normal_loss_standart(x):\n",
    "    return norm.pdf(x) - x*(1-norm.cdf(x))\n",
    "def f(x):\n",
    "    return abs(normal_loss_standart(x) - target)"
   ]
  },
  {
   "cell_type": "code",
   "execution_count": 5,
   "id": "950aa73e",
   "metadata": {},
   "outputs": [
    {
     "name": "stdout",
     "output_type": "stream",
     "text": [
      "     fun: 3.771691292620005e-10\n",
      "    nfev: 28\n",
      "     nit: 23\n",
      " success: True\n",
      "       x: 1.6630509496216634\n"
     ]
    }
   ],
   "source": [
    "from scipy import optimize   # for linear and non linear programming\n",
    "result = optimize.minimize_scalar(f)  # https://docs.scipy.org/doc/scipy/reference/generated/scipy.optimize.minimize_scalar.html\n",
    "print(result)"
   ]
  },
  {
   "cell_type": "code",
   "execution_count": null,
   "id": "4a5d4060",
   "metadata": {},
   "outputs": [],
   "source": []
  }
 ],
 "metadata": {
  "kernelspec": {
   "display_name": "Python 3",
   "language": "python",
   "name": "python3"
  },
  "language_info": {
   "codemirror_mode": {
    "name": "ipython",
    "version": 3
   },
   "file_extension": ".py",
   "mimetype": "text/x-python",
   "name": "python",
   "nbconvert_exporter": "python",
   "pygments_lexer": "ipython3",
   "version": "3.8.10"
  }
 },
 "nbformat": 4,
 "nbformat_minor": 5
}
