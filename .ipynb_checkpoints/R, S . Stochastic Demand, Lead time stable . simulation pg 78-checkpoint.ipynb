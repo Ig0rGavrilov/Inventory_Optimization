{
 "cells": [
  {
   "cell_type": "code",
   "execution_count": 1,
   "id": "5a474711",
   "metadata": {},
   "outputs": [],
   "source": [
    "import numpy as np\n",
    "import pandas as pd\n",
    "import matplotlib.pyplot as plt\n",
    "from scipy.stats import norm\n",
    "\n",
    "time = 100  # Number of simulations\n",
    "d_mu = 100  # Demand \n",
    "d_std = 25   # Demand's standard deviation\n",
    "d = np.maximum(np.random.normal(d_mu, d_std, time).round(0).astype(int), 0) # random demand with minimum value 0"
   ]
  },
  {
   "cell_type": "code",
   "execution_count": 2,
   "id": "88a6ec18",
   "metadata": {},
   "outputs": [],
   "source": [
    "L, R, alpha = 4, 1, 0.95  # L is a lead time, R is a review period, alpha is the CSL\n",
    "z = norm.ppf(alpha)       # calculate z value\n",
    "x_std = np.sqrt(L+R)*d_std  #standard deviation over lead time and review period\n",
    "Ss = np.round(x_std * z).astype(int)  # Safety stock \n",
    "Cs = 1/2 * d_mu * R # Cycle stock D over Review period\n",
    "Is = d_mu * L  # inventory on the way\n",
    "S = Ss + 2 * Cs + Is # Total inventory "
   ]
  },
  {
   "cell_type": "code",
   "execution_count": 3,
   "id": "c0480dad",
   "metadata": {},
   "outputs": [],
   "source": [
    "hand = np.zeros(time, dtype=int) # Create new empty array with size of the time, valuies are integer\n",
    "transit = np.zeros((time, L+1), dtype=int) #Create new  2nd empty array"
   ]
  },
  {
   "cell_type": "code",
   "execution_count": 4,
   "id": "08ebeca6",
   "metadata": {},
   "outputs": [],
   "source": [
    "hand[0] = S - d[0] # Level of the inventory after first period , S - demand(first period)\n",
    "transit[1,-1] = d[0] # put the IOH to first row and last position"
   ]
  },
  {
   "cell_type": "code",
   "execution_count": 5,
   "id": "79ba9056",
   "metadata": {},
   "outputs": [],
   "source": [
    "stockout_period = np.full(time, False, dtype=bool) # Create an array with lenght time and all the FALSE\n",
    "stockout_cycle = [] # Create array stockout cycle"
   ]
  },
  {
   "cell_type": "code",
   "execution_count": 6,
   "id": "1ad9d5e9",
   "metadata": {},
   "outputs": [],
   "source": [
    "for t in range(1,time):\n",
    "    if transit[t-1, 0] > 0: # t-1 it is a previous perid , position 0, that means oreder received!\n",
    "        stockout_cycle.append(stockout_period[t-1])\n",
    "    hand[t] = hand[t-1] - d[t] + transit[t-1, 0] # on hand previous period - demand + receieved order\n",
    "    stockout_period[t] = hand[t] < 0   \n",
    "    #hand[t] = max(0, hand[t]) backorders\n",
    "    transit[t,:-1] = transit[t-1, 1:]   \n",
    "    if 0 == t%R:   # check the review period % t divided by R\n",
    "        net = hand[t] + transit[t].sum()   \n",
    "        transit[t,L] = S - net"
   ]
  },
  {
   "cell_type": "code",
   "execution_count": 7,
   "id": "5935daa5",
   "metadata": {},
   "outputs": [
    {
     "name": "stdout",
     "output_type": "stream",
     "text": [
      "    Demand  On-hand               In Transit\n",
      "5       88       33   [86, 160, 87, 138, 88]\n",
      "6       84       35   [160, 87, 138, 88, 84]\n",
      "7       78      117    [87, 138, 88, 84, 78]\n",
      "8       89      115    [138, 88, 84, 78, 89]\n",
      "9       71      182     [88, 84, 78, 89, 71]\n",
      "..     ...      ...                      ...\n",
      "95      48       84  [128, 129, 113, 90, 48]\n",
      "96      78      134   [129, 113, 90, 48, 78]\n",
      "97     110      153   [113, 90, 48, 78, 110]\n",
      "98      60      206    [90, 48, 78, 110, 60]\n",
      "99     105      191   [48, 78, 110, 60, 105]\n",
      "\n",
      "[95 rows x 3 columns]\n"
     ]
    },
    {
     "data": {
      "text/plain": [
       "<matplotlib.axes._subplots.AxesSubplot at 0x1f03d9151c0>"
      ]
     },
     "execution_count": 7,
     "metadata": {},
     "output_type": "execute_result"
    },
    {
     "data": {
      "image/png": "[encoded data removed]",
      "text/plain": [
       "<Figure size 432x288 with 1 Axes>"
      ]
     },
     "metadata": {
      "needs_background": "light"
     },
     "output_type": "display_data"
    }
   ],
   "source": [
    "df = pd.DataFrame(data = {\"Demand\":d, \"On-hand\":hand, \"In Transit\":list(transit)})\n",
    "df = df.iloc[R+L: ,:]\n",
    "print(df)\n",
    "df[\"On-hand\"].plot(title=\"Inventory Policy (%d, %d)\" %(R,S), ylim = (0,S), legend = True)\n"
   ]
  },
  {
   "cell_type": "code",
   "execution_count": 8,
   "id": "07f6277f",
   "metadata": {},
   "outputs": [
    {
     "name": "stdout",
     "output_type": "stream",
     "text": [
      "Alpha: 95.0\n",
      "Cycle Service Level: 92.6\n",
      "Period Service Level: 93.0\n"
     ]
    }
   ],
   "source": [
    "print(\"Alpha:\", alpha*100)\n",
    "SL_alpha = 1 - sum(stockout_cycle)/len(stockout_cycle)\n",
    "print(\"Cycle Service Level:\", round(SL_alpha*100,1))\n",
    "SL_period = 1 - sum(stockout_period)/time\n",
    "print(\"Period Service Level:\", round(SL_period*100,1))"
   ]
  },
  {
   "cell_type": "code",
   "execution_count": null,
   "id": "3403978c",
   "metadata": {},
   "outputs": [],
   "source": []
  },
  {
   "cell_type": "code",
   "execution_count": null,
   "id": "a4e8b2be",
   "metadata": {},
   "outputs": [],
   "source": []
  }
 ],
 "metadata": {
  "kernelspec": {
   "display_name": "Python 3",
   "language": "python",
   "name": "python3"
  },
  "language_info": {
   "codemirror_mode": {
    "name": "ipython",
    "version": 3
   },
   "file_extension": ".py",
   "mimetype": "text/x-python",
   "name": "python",
   "nbconvert_exporter": "python",
   "pygments_lexer": "ipython3",
   "version": "3.8.10"
  }
 },
 "nbformat": 4,
 "nbformat_minor": 5
}
