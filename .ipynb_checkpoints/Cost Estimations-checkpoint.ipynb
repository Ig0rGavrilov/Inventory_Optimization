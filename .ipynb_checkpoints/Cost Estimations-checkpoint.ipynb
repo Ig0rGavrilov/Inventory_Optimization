{
 "cells": [
  {
   "cell_type": "markdown",
   "id": "8d4be3ff",
   "metadata": {},
   "source": [
    "Cost Estimations pg141"
   ]
  },
  {
   "cell_type": "code",
   "execution_count": 44,
   "id": "81addf52",
   "metadata": {},
   "outputs": [],
   "source": [
    "import numpy as np\n",
    "from scipy.stats import norm"
   ]
  },
  {
   "cell_type": "code",
   "execution_count": 45,
   "id": "1e501f5a",
   "metadata": {},
   "outputs": [],
   "source": [
    "def normal_loss_standard(x):\n",
    "    return norm.pdf(x)-x*(1-norm.cdf(x))"
   ]
  },
  {
   "cell_type": "code",
   "execution_count": 46,
   "id": "70adf339",
   "metadata": {},
   "outputs": [],
   "source": [
    "k = 1000\n",
    "h = 1.25\n",
    "b =50\n",
    "time = 100\n",
    "d_mu = 100\n",
    "d_std = 25\n",
    "R = 4\n",
    "alpha = 0.95"
   ]
  },
  {
   "cell_type": "code",
   "execution_count": 47,
   "id": "0f5a467a",
   "metadata": {},
   "outputs": [],
   "source": [
    "L, L_std = 4, 1\n",
    "z = norm.ppf(alpha)\n",
    "x_std = np.sqrt((R+L)*d_std**2+L_std**2*d_mu**2)\n",
    "Ss = np.round(x_std*z).astype(int)\n",
    "Cs = 1/2 * d_mu * R\n",
    "Is = d_mu * L\n",
    "S = Ss + 2 * Cs + Is\n",
    "d = np.maximum(np.random.normal(d_mu, d_std, time).round(0).astype(int), 0)"
   ]
  },
  {
   "cell_type": "code",
   "execution_count": 48,
   "id": "51b38241",
   "metadata": {},
   "outputs": [],
   "source": [
    "p = np.zeros(time)\n",
    "p[0]=S-d[0]/2"
   ]
  },
  {
   "cell_type": "code",
   "execution_count": 49,
   "id": "7ae62469",
   "metadata": {},
   "outputs": [],
   "source": [
    "transit = np.zeros((time, L+ 5*L_std + 1), dtype=int)\n",
    "transit[0,L] = d[0]"
   ]
  },
  {
   "cell_type": "code",
   "execution_count": 50,
   "id": "cc6e97df",
   "metadata": {},
   "outputs": [],
   "source": [
    "hand = np.zeros(time, dtype=int)\n",
    "transit = np.zeros((time, L+R), dtype=int)"
   ]
  },
  {
   "cell_type": "code",
   "execution_count": 58,
   "id": "6856d8cc",
   "metadata": {},
   "outputs": [],
   "source": [
    "stockout_period = np.full(time, False, dtype=bool)\n",
    "stockout_cycle = []\n",
    "unit_shorts = np.zeros(time)"
   ]
  },
  {
   "cell_type": "code",
   "execution_count": null,
   "id": "3fd1e0b1",
   "metadata": {},
   "outputs": [],
   "source": []
  },
  {
   "cell_type": "code",
   "execution_count": 59,
   "id": "2eac40f1",
   "metadata": {},
   "outputs": [],
   "source": [
    "c_k = k\n",
    "c_h = h*p[0]\n",
    "c_b = 0"
   ]
  },
  {
   "cell_type": "code",
   "execution_count": 65,
   "id": "1c6b86bc",
   "metadata": {},
   "outputs": [],
   "source": [
    "for t in range(1,time):\n",
    "    if transit[t-1,0]>0:\n",
    "        stockout_cycle.append(stockout_period[t-1])\n",
    "    unit_shorts[t] = max(0,d[t] - max(0, hand[t-1] + transit[t-1,0]))\n",
    "    hand[t] = hand[t-1] - d[t] + transit[t-1,0]\n",
    "    stockout_period[t] = hand[t] < 0\n",
    "    transit[t, :-1] = transit[t-1, 1:]\n",
    "    if t%R==0:\n",
    "        actual_L = int(round(max(np.random.normal(L,L_std), 0 ), 0))\n",
    "        net = hand[t] + transit[t].sum()\n",
    "        transit[t,actual_L] = S -net\n",
    "        c_k +=k\n",
    "    if hand[t] > 0:\n",
    "        p[t] = (hand[t-1] + transit[t-1,0] + hand[t]/2)\n",
    "    else:\n",
    "        p[t] = max(hand[t-1] + transit[t-1,0], 0)**2/max(d[t],1)/2\n",
    "    c_h += h*p[t]\n",
    "    c_b += b*unit_shorts[t]"
   ]
  },
  {
   "cell_type": "code",
   "execution_count": 66,
   "id": "7ef6b57a",
   "metadata": {},
   "outputs": [
    {
     "name": "stdout",
     "output_type": "stream",
     "text": [
      "Model: \t\t 783.8\n",
      "Simulation: \t 1694.9\n"
     ]
    }
   ],
   "source": [
    "def cost(h,d_mu,R,z,x_std,k,b):\n",
    "    return h*(d_mu*R/2 + x_std*z) + k/R + b*x_std*normal_loss_standard(z)/R\n",
    "print('Model: \\t\\t', round(cost(h,d_mu,R,z,x_std,k,b), 1))\n",
    "print('Simulation: \\t', round((c_h+c_b+c_k)/time,1))"
   ]
  },
  {
   "cell_type": "code",
   "execution_count": null,
   "id": "6fd2d256",
   "metadata": {},
   "outputs": [],
   "source": []
  }
 ],
 "metadata": {
  "kernelspec": {
   "display_name": "Python 3",
   "language": "python",
   "name": "python3"
  },
  "language_info": {
   "codemirror_mode": {
    "name": "ipython",
    "version": 3
   },
   "file_extension": ".py",
   "mimetype": "text/x-python",
   "name": "python",
   "nbconvert_exporter": "python",
   "pygments_lexer": "ipython3",
   "version": "3.8.10"
  }
 },
 "nbformat": 4,
 "nbformat_minor": 5
}
