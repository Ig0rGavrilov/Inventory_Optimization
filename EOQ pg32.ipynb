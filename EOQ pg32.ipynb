{
 "cells": [
  {
   "cell_type": "markdown",
   "id": "78e6e4af",
   "metadata": {},
   "source": [
    "# EOQ page 32\n"
   ]
  },
  {
   "cell_type": "code",
   "execution_count": 37,
   "id": "2b27d5c7",
   "metadata": {},
   "outputs": [],
   "source": [
    "import numpy as np\n",
    "def EOQ(k,D,h,c): # h is a percentage\n",
    "    return np.sqrt((2*D*k)/(h*c))"
   ]
  },
  {
   "cell_type": "code",
   "execution_count": 38,
   "id": "fdb81399",
   "metadata": {},
   "outputs": [],
   "source": [
    "def Cost(k,D,h,Q,c): # h is a percentage\n",
    "    return k*D/Q + h*c*Q/2 + c*D"
   ]
  },
  {
   "cell_type": "code",
   "execution_count": 42,
   "id": "265da1a8",
   "metadata": {},
   "outputs": [
    {
     "name": "stdout",
     "output_type": "stream",
     "text": [
      "1633 \t 2245\n"
     ]
    }
   ],
   "source": [
    "#Case 1\n",
    "c, k, D, h = 1, 100, 2000, 0.15\n",
    "Q = EOQ(k,D,h,c)\n",
    "C = Cost(k,D,h,Q,c)\n",
    "print(round(Q), \"\\t\", round(C))"
   ]
  },
  {
   "cell_type": "code",
   "execution_count": 44,
   "id": "db986f6b",
   "metadata": {},
   "outputs": [
    {
     "name": "stdout",
     "output_type": "stream",
     "text": [
      "2000 \t 1820\n"
     ]
    }
   ],
   "source": [
    "#Case 2\n",
    "c = 0.8\n",
    "Q = max(2000, EOQ(k, D, h, c))\n",
    "C = Cost(k, D, h, Q, c)\n",
    "print(round(Q), '\\t', round(C))"
   ]
  },
  {
   "cell_type": "code",
   "execution_count": null,
   "id": "07641e2a",
   "metadata": {},
   "outputs": [],
   "source": []
  }
 ],
 "metadata": {
  "kernelspec": {
   "display_name": "Python 3",
   "language": "python",
   "name": "python3"
  },
  "language_info": {
   "codemirror_mode": {
    "name": "ipython",
    "version": 3
   },
   "file_extension": ".py",
   "mimetype": "text/x-python",
   "name": "python",
   "nbconvert_exporter": "python",
   "pygments_lexer": "ipython3",
   "version": "3.8.10"
  }
 },
 "nbformat": 4,
 "nbformat_minor": 5
}
