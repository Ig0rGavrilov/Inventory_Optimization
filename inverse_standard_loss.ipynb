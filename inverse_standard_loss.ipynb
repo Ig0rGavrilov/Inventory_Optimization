{
 "cells": [
  {
   "cell_type": "code",
   "execution_count": 3,
   "id": "ccb79ef3",
   "metadata": {},
   "outputs": [],
   "source": [
    "import numpy as np\n",
    "coefficients = [ 4.41738119e-09, 1.79200966e-07, 3.01634229e-06,\n",
    "2.63537452e-05, 1.12381749e-04, 5.71289020e-06,\n",
    "-2.64198510e-03, -1.59986142e-02, -5.60399292e-02,\n",
    "-1.48968884e-01, -3.68776346e-01, -1.22551895e+00,\n",
    "-8.99375602e-01]\n",
    "\n",
    "def inverse_standard_loss(target):\n",
    "    x = np.log(target)\n",
    "    z = np.polyval(coefficients, x)\n",
    "    return z"
   ]
  },
  {
   "cell_type": "code",
   "execution_count": 4,
   "id": "3b2c6f70",
   "metadata": {},
   "outputs": [
    {
     "name": "stdout",
     "output_type": "stream",
     "text": [
      "1.6630953272668267\n"
     ]
    }
   ],
   "source": [
    "d_c, x_std, beta = 100, 50, 0.99\n",
    "target = d_c*(1-beta)/x_std\n",
    "z = inverse_standard_loss(target)\n",
    "print(z)"
   ]
  },
  {
   "cell_type": "code",
   "execution_count": null,
   "id": "5d0ef3fa",
   "metadata": {},
   "outputs": [],
   "source": []
  }
 ],
 "metadata": {
  "kernelspec": {
   "display_name": "Python 3",
   "language": "python",
   "name": "python3"
  },
  "language_info": {
   "codemirror_mode": {
    "name": "ipython",
    "version": 3
   },
   "file_extension": ".py",
   "mimetype": "text/x-python",
   "name": "python",
   "nbconvert_exporter": "python",
   "pygments_lexer": "ipython3",
   "version": "3.8.10"
  }
 },
 "nbformat": 4,
 "nbformat_minor": 5
}
