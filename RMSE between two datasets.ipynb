{
 "cells": [
  {
   "cell_type": "markdown",
   "id": "5491bed2",
   "metadata": {},
   "source": [
    "RMSE between two datasets"
   ]
  },
  {
   "cell_type": "code",
   "execution_count": 21,
   "id": "c77a293b",
   "metadata": {},
   "outputs": [],
   "source": [
    "import numpy as np\n",
    "import pandas as pd\n",
    "from scipy.stats import gamma\n",
    "from scipy.stats import norm"
   ]
  },
  {
   "cell_type": "code",
   "execution_count": 38,
   "id": "1dca95d9",
   "metadata": {},
   "outputs": [],
   "source": [
    "def rmse_percent(a,b):\n",
    "    rmse = np.sqrt(sum((a-b)**2)/len(a))/np.mean(b)\n",
    "    return round(rmse*100,1)"
   ]
  },
  {
   "cell_type": "code",
   "execution_count": 39,
   "id": "2d4aa445",
   "metadata": {},
   "outputs": [],
   "source": [
    "def get_data(car_maker):\n",
    "    df= pd.read_csv('norway_new_car_sales_by_make.csv')\n",
    "    df['Date'] = pd.to_datetime(df['Year'].astype(str)+df['Month'].astype(str), format='%Y%m')\n",
    "    df= (df.loc[df['Make'] == car_maker, ['Date', 'Quantity']].rename(columns={'Quantity':'Sales'}).set_index('Date'))\n",
    "    return df"
   ]
  },
  {
   "cell_type": "code",
   "execution_count": 40,
   "id": "6b515f47",
   "metadata": {},
   "outputs": [],
   "source": [
    "df = get_data('Ford')\n"
   ]
  },
  {
   "cell_type": "code",
   "execution_count": 41,
   "id": "48e22c26",
   "metadata": {},
   "outputs": [],
   "source": [
    "hist_range = (df.Sales.min()*0.8, df.Sales.max()*1.2)\n",
    "y_actuals, edges = np.histogram(df, bins=30, density=True, range=hist_range)\n",
    "x = (edges + np.roll(edges, -1))[:-1] / 2.0"
   ]
  },
  {
   "cell_type": "code",
   "execution_count": 42,
   "id": "db55dc92",
   "metadata": {},
   "outputs": [],
   "source": [
    "#Normal fit\n",
    "mu = df.Sales.mean()\n",
    "std = df.Sales.std()\n",
    "y_normal = norm.pdf(x, mu, std)\n",
    "\n",
    "#Gamma fit\n",
    "shape = mu**2/std**2  #k\n",
    "scale = std**2/mu #theta\n",
    "y_gamma = gamma.pdf(x, shape, loc=0, scale=scale)\n",
    "\n",
    "#Gamma fith with min demand\n",
    "mini = df.Sales.min()\n",
    "mu_p = mu-mini\n",
    "shape_p = mu_p**2/std**2\n",
    "scale_p = std**2/mu_p\n",
    "y_gamma_p = gamma.pdf(x, shape_p, loc=mini, scale=scale_p)"
   ]
  },
  {
   "cell_type": "code",
   "execution_count": 44,
   "id": "adf4bf7a",
   "metadata": {},
   "outputs": [],
   "source": [
    "y_actuals /=y_actuals.sum()\n",
    "y_normal /=y_normal.sum()\n",
    "y_gamma /=y_gamma.sum()\n",
    "y_gamma_p /=y_gamma_p.sum()"
   ]
  },
  {
   "cell_type": "code",
   "execution_count": 46,
   "id": "6f180494",
   "metadata": {},
   "outputs": [],
   "source": [
    "rmse_normal = rmse_percent(y_actuals,y_normal)\n",
    "rmse_gamma = rmse_percent(y_actuals,y_gamma)\n",
    "rmse_gamma_p = rmse_percent(y_actuals, y_gamma_p)"
   ]
  },
  {
   "cell_type": "code",
   "execution_count": 47,
   "id": "f66c406e",
   "metadata": {},
   "outputs": [
    {
     "name": "stdout",
     "output_type": "stream",
     "text": [
      "60.9\n",
      "51.5\n",
      "44.8\n"
     ]
    }
   ],
   "source": [
    "print(rmse_normal)\n",
    "print(rmse_gamma)\n",
    "print(rmse_gamma_p)"
   ]
  },
  {
   "cell_type": "code",
   "execution_count": null,
   "id": "d3c0b94d",
   "metadata": {},
   "outputs": [],
   "source": []
  }
 ],
 "metadata": {
  "kernelspec": {
   "display_name": "Python 3",
   "language": "python",
   "name": "python3"
  },
  "language_info": {
   "codemirror_mode": {
    "name": "ipython",
    "version": 3
   },
   "file_extension": ".py",
   "mimetype": "text/x-python",
   "name": "python",
   "nbconvert_exporter": "python",
   "pygments_lexer": "ipython3",
   "version": "3.8.10"
  }
 },
 "nbformat": 4,
 "nbformat_minor": 5
}
