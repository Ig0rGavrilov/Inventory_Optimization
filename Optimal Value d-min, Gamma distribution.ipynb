{
 "cells": [
  {
   "cell_type": "code",
   "execution_count": 9,
   "id": "7c5d8e00",
   "metadata": {},
   "outputs": [],
   "source": [
    "import pandas as pd\n",
    "import numpy as np\n",
    "from scipy.stats import gamma\n",
    "from matplotlib import pyplot as plt \n"
   ]
  },
  {
   "cell_type": "code",
   "execution_count": 10,
   "id": "31aae4b1",
   "metadata": {},
   "outputs": [],
   "source": [
    "def get_data(car_maker):\n",
    "    df= pd.read_csv('norway_new_car_sales_by_make.csv')\n",
    "    df['Date'] = pd.to_datetime(df['Year'].astype(str)+df['Month'].astype(str), format='%Y%m')\n",
    "    df= (df.loc[df['Make'] == car_maker, ['Date', 'Quantity']].rename(columns={'Quantity':'Sales'}).set_index('Date'))\n",
    "    return df"
   ]
  },
  {
   "cell_type": "code",
   "execution_count": 11,
   "id": "5d9e070c",
   "metadata": {},
   "outputs": [],
   "source": [
    "df = get_data('Ford')"
   ]
  },
  {
   "cell_type": "code",
   "execution_count": 12,
   "id": "7ffbbf85",
   "metadata": {},
   "outputs": [],
   "source": [
    "std = df.Sales.std()\n",
    "d_min = df.Sales.min()\n",
    "mu = df.Sales.mean()\n",
    "mu_p = mu- d_min\n",
    "shape_p = mu_p**2/std**2  #k\n",
    "scale_p = std**2/mu_p     #theta\n"
   ]
  },
  {
   "cell_type": "code",
   "execution_count": 13,
   "id": "cbce02bb",
   "metadata": {},
   "outputs": [
    {
     "data": {
      "text/plain": [
       "[<matplotlib.lines.Line2D at 0x2646cfa8fa0>]"
      ]
     },
     "execution_count": 13,
     "metadata": {},
     "output_type": "execute_result"
    },
    {
     "data": {
      "image/png": "[encoded data removed]",
      "text/plain": [
       "<Figure size 432x288 with 1 Axes>"
      ]
     },
     "metadata": {
      "needs_background": "light"
     },
     "output_type": "display_data"
    }
   ],
   "source": [
    "x_min = gamma.ppf(0.01, shape_p, loc=d_min, scale=scale_p)\n",
    "x_max = gamma.ppf(0.99, shape_p, loc=d_min, scale=scale_p)\n",
    "x = np.linspace(x_min, x_max, 200)\n",
    "y = gamma.pdf(x, shape_p, loc=d_min, scale=scale_p)\n",
    "plt.plot(x,y)"
   ]
  },
  {
   "cell_type": "code",
   "execution_count": null,
   "id": "511db34d",
   "metadata": {},
   "outputs": [],
   "source": []
  },
  {
   "cell_type": "code",
   "execution_count": null,
   "id": "75c176b6",
   "metadata": {},
   "outputs": [],
   "source": []
  }
 ],
 "metadata": {
  "kernelspec": {
   "display_name": "Python 3",
   "language": "python",
   "name": "python3"
  },
  "language_info": {
   "codemirror_mode": {
    "name": "ipython",
    "version": 3
   },
   "file_extension": ".py",
   "mimetype": "text/x-python",
   "name": "python",
   "nbconvert_exporter": "python",
   "pygments_lexer": "ipython3",
   "version": "3.8.10"
  }
 },
 "nbformat": 4,
 "nbformat_minor": 5
}
